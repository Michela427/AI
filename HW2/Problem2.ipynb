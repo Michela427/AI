{
  "nbformat": 4,
  "nbformat_minor": 0,
  "metadata": {
    "colab": {
      "provenance": [],
      "authorship_tag": "ABX9TyOUOopSRBBdvSZjmfnod76u",
      "include_colab_link": true
    },
    "kernelspec": {
      "name": "python3",
      "display_name": "Python 3"
    },
    "language_info": {
      "name": "python"
    }
  },
  "cells": [
    {
      "cell_type": "markdown",
      "metadata": {
        "id": "view-in-github",
        "colab_type": "text"
      },
      "source": [
        "<a href=\"https://colab.research.google.com/github/Michela427/AI/blob/main/Problem2.ipynb\" target=\"_parent\"><img src=\"https://colab.research.google.com/assets/colab-badge.svg\" alt=\"Open In Colab\"/></a>"
      ]
    },
    {
      "cell_type": "code",
      "execution_count": 3,
      "metadata": {
        "colab": {
          "base_uri": "https://localhost:8080/"
        },
        "id": "bWHSdyDppL2l",
        "outputId": "5d6d687e-49b0-49d9-b58d-52847c497db4"
      },
      "outputs": [
        {
          "output_type": "stream",
          "name": "stdout",
          "text": [
            "Potential friends of Adam: David, Maya, Sophia\n",
            "Potential friends of David: Adam, Sophia\n",
            "Potential friends of Sophia: Adam, David\n"
          ]
        }
      ],
      "source": [
        "from collections import deque\n",
        "\n",
        "def PotentialFriends(graph, user):\n",
        "    visited = set()\n",
        "    queue = deque()\n",
        "    level = 0\n",
        "\n",
        "    queue.append((user, 0))\n",
        "    visited.add(user)\n",
        "\n",
        "    direct_friends = set()\n",
        "    potential_friends = set()\n",
        "\n",
        "    while queue:\n",
        "        current_user, current_level = queue.popleft()\n",
        "\n",
        "        if current_level == 1:\n",
        "            direct_friends.add(current_user)\n",
        "        elif current_level == 2:\n",
        "            if current_user not in graph[user]:  # not already a friend\n",
        "                potential_friends.add(current_user)\n",
        "\n",
        "        if current_level < 2:\n",
        "            for neighbor in graph[current_user]:\n",
        "                if neighbor not in visited:\n",
        "                    visited.add(neighbor)\n",
        "                    queue.append((neighbor, current_level + 1))\n",
        "\n",
        "    print(f\"Potential friends of {user}: {', '.join(sorted(potential_friends)) if potential_friends else 'None'}\")\n",
        "\n",
        "\n",
        "# Sample graph at time t\n",
        "G = {\n",
        "    'Maria': ['Adam', 'Sophia', 'Maya', 'David'],\n",
        "    'Adam': ['Maria'],\n",
        "    'Maya': ['Maria', 'Sophia', 'David'],\n",
        "    'Sophia': ['Maria', 'Maya'],\n",
        "    'David': ['Maria', 'Maya']\n",
        "}\n",
        "\n",
        "# Add connections from t' if needed (optional, not for time t)\n",
        "# At time t, we'll use the above graph only\n",
        "\n",
        "# Tests\n",
        "PotentialFriends(G, 'Adam')    # Expected: Sophia, Maya, David\n",
        "PotentialFriends(G, 'David')   # Expected: Adam, Sophia\n",
        "PotentialFriends(G, 'Sophia')  # Expected: Adam, David"
      ]
    }
  ]
}