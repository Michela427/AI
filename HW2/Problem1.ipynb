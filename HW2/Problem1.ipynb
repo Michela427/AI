{
  "nbformat": 4,
  "nbformat_minor": 0,
  "metadata": {
    "colab": {
      "provenance": [],
      "authorship_tag": "ABX9TyP6yPrzl5J68Who038Is26j",
      "include_colab_link": true
    },
    "kernelspec": {
      "name": "python3",
      "display_name": "Python 3"
    },
    "language_info": {
      "name": "python"
    }
  },
  "cells": [
    {
      "cell_type": "markdown",
      "metadata": {
        "id": "view-in-github",
        "colab_type": "text"
      },
      "source": [
        "<a href=\"https://colab.research.google.com/github/Michela427/AI/blob/main/HW2/Problem1.ipynb\" target=\"_parent\"><img src=\"https://colab.research.google.com/assets/colab-badge.svg\" alt=\"Open In Colab\"/></a>"
      ]
    },
    {
      "cell_type": "code",
      "execution_count": null,
      "metadata": {
        "id": "cE7aRCLZzhl3",
        "colab": {
          "base_uri": "https://localhost:8080/"
        },
        "outputId": "81bf6be6-a2d6-4313-a44f-70569d583bea"
      },
      "outputs": [
        {
          "output_type": "stream",
          "name": "stdout",
          "text": [
            "Friends of Bob: Amy, Anna\n",
            "Friends of Pam: Rob, Richard, Amy, Anna\n"
          ]
        }
      ],
      "source": [
        "from collections import deque, defaultdict\n",
        "\n",
        "def FindFriends(graph, user, k):\n",
        "    visited = set()\n",
        "    queue = deque()\n",
        "    level = 0\n",
        "\n",
        "    queue.append((user, 0))\n",
        "    visited.add(user)\n",
        "\n",
        "    kth_level_friends = []\n",
        "\n",
        "    while queue:\n",
        "        current_user, current_level = queue.popleft()\n",
        "\n",
        "        if current_level == k:\n",
        "            kth_level_friends.append(current_user)\n",
        "        elif current_level < k:\n",
        "            for friend in graph[current_user]:\n",
        "                if friend not in visited:\n",
        "                    visited.add(friend)\n",
        "                    queue.append((friend, current_level + 1))\n",
        "\n",
        "    if user in kth_level_friends:\n",
        "        kth_level_friends.remove(user)\n",
        "\n",
        "    print(f\"Friends of {user}: {', '.join(kth_level_friends) if kth_level_friends else 'None'}\")\n",
        "\n",
        "\n",
        "# Graph besed on provided image\n",
        "G = {\n",
        "    'Bob': ['Rob', 'Richard', 'Pam'],\n",
        "    'Richard': ['Bob'],\n",
        "    'Rob': ['Bob'],\n",
        "    'Pam': ['Bob', 'Peter', 'Roger'],\n",
        "    'Roger': ['Bob', 'Anna'],\n",
        "    'Anna': ['Roger'],\n",
        "    'Peter': ['Pam', 'Amy'],\n",
        "    'Amy': ['Peter'],\n",
        "}\n",
        "\n",
        "FindFriends(G, 'Bob', 3)  # Expected: Amy and Anna\n",
        "FindFriends(G, 'Pam', 2)  # Expected: Ruchard, Rob, Anna, Amy"
      ]
    }
  ]
}